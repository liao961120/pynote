{
 "cells": [
  {
   "cell_type": "markdown",
   "metadata": {},
   "source": [
    "# Reading & Writing Files"
   ]
  },
  {
   "cell_type": "markdown",
   "metadata": {},
   "source": [
    "## Plain Text"
   ]
  },
  {
   "cell_type": "markdown",
   "metadata": {},
   "source": [
    "### Read"
   ]
  },
  {
   "cell_type": "code",
   "execution_count": 1,
   "metadata": {},
   "outputs": [
    {
     "name": "stdout",
     "output_type": "stream",
     "text": [
      "1. This is file foo.\n",
      "2. Just for demo, no practical utilities.\n",
      "3. hahahah\n",
      "4. This is line 4\n",
      "\n",
      "6. Line 5 (previous line) is empty\n"
     ]
    }
   ],
   "source": [
    "filePath = 'prac/foo.txt'\n",
    "file = open(filePath, 'r', encoding='utf-8')\n",
    "\n",
    "for line in file:\n",
    "    print(line.strip())\n",
    "\n",
    "file.close()"
   ]
  },
  {
   "cell_type": "markdown",
   "metadata": {},
   "source": [
    "#### Wrap up"
   ]
  },
  {
   "cell_type": "code",
   "execution_count": 2,
   "metadata": {},
   "outputs": [
    {
     "name": "stdout",
     "output_type": "stream",
     "text": [
      "1. This is file foo.\n",
      "2. Just for demo, no practical utilities.\n",
      "3. hahahah\n",
      "4. This is line 4\n",
      "\n",
      "6. Line 5 (previous line) is empty\n"
     ]
    }
   ],
   "source": [
    "def print_file(filePath):\n",
    "    file = open(filePath, 'r', encoding='utf-8')\n",
    "\n",
    "    for line in file:\n",
    "        print(line.strip())\n",
    "\n",
    "    file.close()\n",
    "\n",
    "print_file('prac/foo.txt')"
   ]
  },
  {
   "cell_type": "markdown",
   "metadata": {},
   "source": [
    "### Write"
   ]
  },
  {
   "cell_type": "code",
   "execution_count": 3,
   "metadata": {},
   "outputs": [],
   "source": [
    "somestr = 'abp中文字123隨機'\n",
    "\n",
    "filePath = 'prac/write.txt'\n",
    "file = open(filePath, 'w', encoding='utf-8')\n",
    "\n",
    "lineCount = 1\n",
    "for char in somestr:\n",
    "    file.write(str(lineCount) + '. ' + char + '\\n')\n",
    "    lineCount += 1\n",
    "\n",
    "file.close()"
   ]
  },
  {
   "cell_type": "markdown",
   "metadata": {},
   "source": [
    "#### Wrap up: Self-defined `file.writelines()` (No `\\n` required)"
   ]
  },
  {
   "cell_type": "code",
   "execution_count": 4,
   "metadata": {},
   "outputs": [],
   "source": [
    "def writelines(fpath, lst):\n",
    "    file = open(fpath, 'w', encoding='utf-8')\n",
    "\n",
    "    for ele in lst:\n",
    "        file.write(str(ele) + '\\n')\n",
    "\n",
    "    file.close()\n",
    "\n",
    "writelines('prac/writelines.txt', ['This is line 1', 'This is line 2', 3, 4, [1,2,'3'], {'a':1, 'x':2}])"
   ]
  },
  {
   "cell_type": "markdown",
   "metadata": {},
   "source": [
    "## CSV"
   ]
  },
  {
   "cell_type": "markdown",
   "metadata": {},
   "source": [
    "### Read: `DictReader`"
   ]
  },
  {
   "cell_type": "code",
   "execution_count": 5,
   "metadata": {},
   "outputs": [
    {
     "name": "stdout",
     "output_type": "stream",
     "text": [
      "[OrderedDict([('證券代碼', '4938   '),\n",
      "              ('簡稱', '和碩         '),\n",
      "              ('年月日', '20110103'),\n",
      "              ('開盤價(元)', '   29.32'),\n",
      "              ('最高價(元)', '   29.42'),\n",
      "              ('最低價(元)', '   29.21'),\n",
      "              ('收盤價(元)', '   29.28'),\n",
      "              ('成交值(千元)', '       89508')]),\n",
      " OrderedDict([('證券代碼', '4938   '),\n",
      "              ('簡稱', '和碩         '),\n",
      "              ('年月日', '20110104'),\n",
      "              ('開盤價(元)', '   29.42'),\n",
      "              ('最高價(元)', '   29.56'),\n",
      "              ('最低價(元)', '   29.28'),\n",
      "              ('收盤價(元)', '   29.42'),\n",
      "              ('成交值(千元)', '      107340')]),\n",
      " OrderedDict([('證券代碼', '4938   '),\n",
      "              ('簡稱', '和碩         '),\n",
      "              ('年月日', '20110105'),\n",
      "              ('開盤價(元)', '   29.42'),\n",
      "              ('最高價(元)', '   29.42'),\n",
      "              ('最低價(元)', '   28.16'),\n",
      "              ('收盤價(元)', '   28.72'),\n",
      "              ('成交值(千元)', '      193077')])]\n"
     ]
    }
   ],
   "source": [
    "import csv\n",
    "import pprint as pp\n",
    "\n",
    "fpath = 'prac/stock.tsv'\n",
    "file = open(fpath, \"r\", encoding='cp950')\n",
    "csvFile = csv.DictReader(file, delimiter='\\t')\n",
    "\n",
    "pp.pprint(list(csvFile)[:3])\n",
    "file.close()"
   ]
  },
  {
   "cell_type": "code",
   "execution_count": 6,
   "metadata": {},
   "outputs": [
    {
     "name": "stdout",
     "output_type": "stream",
     "text": [
      "4938 89508\n",
      "4938 107340\n",
      "4938 193077\n",
      "4938 259533\n",
      "4938 330576\n"
     ]
    }
   ],
   "source": [
    "fpath = 'prac/stock.tsv'\n",
    "file = open(fpath, \"r\", encoding='cp950')\n",
    "csvFile = csv.DictReader(file, delimiter='\\t')\n",
    "\n",
    "lineCount = 1\n",
    "for row in csvFile:\n",
    "    print(int(row['證券代碼']), int(row['成交值(千元)']))\n",
    "    if lineCount == 5: break \n",
    "    lineCount += 1\n",
    "    \n",
    "file.close()"
   ]
  },
  {
   "cell_type": "markdown",
   "metadata": {},
   "source": [
    "### Read: `reader`"
   ]
  },
  {
   "cell_type": "code",
   "execution_count": 7,
   "metadata": {},
   "outputs": [
    {
     "name": "stdout",
     "output_type": "stream",
     "text": [
      "FIELDNAMES: ['證券代碼', '簡稱', '年月日', '開盤價(元)', '最高價(元)', '最低價(元)', '收盤價(元)', '成交值(千元)']\n",
      "['4938', '和碩', '20110103', '29.32', '29.42', '29.21', '29.28', '89508']\n",
      "['4938', '和碩', '20110104', '29.42', '29.56', '29.28', '29.42', '107340']\n",
      "['4938', '和碩', '20110105', '29.42', '29.42', '28.16', '28.72', '193077']\n",
      "['4938', '和碩', '20110106', '28.93', '29.00', '28.02', '28.20', '259533']\n",
      "['4938', '和碩', '20110107', '28.02', '28.16', '27.22', '27.32', '330576']\n"
     ]
    }
   ],
   "source": [
    "with open(fpath, 'r', encoding='cp950') as f:\n",
    "    csvFile = csv.reader(f, delimiter='\\t')\n",
    "    header = next(csvFile)\n",
    "    print('FIELDNAMES:', header)\n",
    "    \n",
    "    lineCount = 1\n",
    "    for row in csvFile:\n",
    "        row = [ele.strip() for ele in row]\n",
    "        print(row)\n",
    "        \n",
    "        if lineCount == 5: break\n",
    "        lineCount += 1"
   ]
  }
 ],
 "metadata": {
  "kernelspec": {
   "display_name": "Python 3",
   "language": "python",
   "name": "python3"
  },
  "language_info": {
   "codemirror_mode": {
    "name": "ipython",
    "version": 3
   },
   "file_extension": ".py",
   "mimetype": "text/x-python",
   "name": "python",
   "nbconvert_exporter": "python",
   "pygments_lexer": "ipython3",
   "version": "3.6.7"
  }
 },
 "nbformat": 4,
 "nbformat_minor": 2
}
