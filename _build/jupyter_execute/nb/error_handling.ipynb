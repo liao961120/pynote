{
 "cells": [
  {
   "cell_type": "markdown",
   "metadata": {},
   "source": [
    "# Error Handling"
   ]
  },
  {
   "cell_type": "markdown",
   "metadata": {},
   "source": [
    "## Try, Except, Finally"
   ]
  },
  {
   "cell_type": "code",
   "execution_count": 1,
   "metadata": {
    "execution": {
     "iopub.execute_input": "2020-07-23T08:06:45.722570Z",
     "iopub.status.busy": "2020-07-23T08:06:45.720313Z",
     "iopub.status.idle": "2020-07-23T08:06:45.725931Z",
     "shell.execute_reply": "2020-07-23T08:06:45.726426Z"
    }
   },
   "outputs": [
    {
     "name": "stdout",
     "output_type": "stream",
     "text": [
      "=== Try block ===\n",
      "=== Except block ===\n"
     ]
    }
   ],
   "source": [
    "try:\n",
    "    print(\"=== Try block ===\")\n",
    "    if \"10\" > 10:\n",
    "        print(\"Content in try block after error encountered\")\n",
    "except:\n",
    "    print(\"=== Except block ===\")"
   ]
  },
  {
   "cell_type": "markdown",
   "metadata": {},
   "source": [
    "### Capture Exception Type"
   ]
  },
  {
   "cell_type": "code",
   "execution_count": 2,
   "metadata": {
    "execution": {
     "iopub.execute_input": "2020-07-23T08:06:45.732011Z",
     "iopub.status.busy": "2020-07-23T08:06:45.731250Z",
     "iopub.status.idle": "2020-07-23T08:06:45.734359Z",
     "shell.execute_reply": "2020-07-23T08:06:45.734831Z"
    }
   },
   "outputs": [
    {
     "name": "stdout",
     "output_type": "stream",
     "text": [
      "=== Try block ===\n",
      "=== Except block ===\n",
      "<class 'TypeError'> encountered:\n",
      "    '>' not supported between instances of 'str' and 'int'\n"
     ]
    }
   ],
   "source": [
    "try:\n",
    "    print(\"=== Try block ===\")\n",
    "    if \"10\" > 10:\n",
    "        print(\"Content in try block after error encountered\")\n",
    "except Exception as exp:\n",
    "    print(\"=== Except block ===\")\n",
    "    print(type(exp), \"encountered:\")   # Exception type\n",
    "    print(\"   \", exp)                  # Exception message"
   ]
  },
  {
   "cell_type": "markdown",
   "metadata": {},
   "source": [
    "### Deal With Different Kinds of Exception"
   ]
  },
  {
   "cell_type": "code",
   "execution_count": 3,
   "metadata": {
    "execution": {
     "iopub.execute_input": "2020-07-23T08:06:45.740723Z",
     "iopub.status.busy": "2020-07-23T08:06:45.740064Z",
     "iopub.status.idle": "2020-07-23T08:06:45.742681Z",
     "shell.execute_reply": "2020-07-23T08:06:45.743152Z"
    }
   },
   "outputs": [
    {
     "name": "stdout",
     "output_type": "stream",
     "text": [
      "=== Try block ===\n"
     ]
    }
   ],
   "source": [
    "a = 10\n",
    "b = \"10\"\n",
    "\n",
    "try:\n",
    "    print(\"=== Try block ===\")\n",
    "    if a > int(b):\n",
    "        print(\"Content in try block after error encountered\")\n",
    "except TypeError:\n",
    "    print(\"=== Except block 1 ===\")\n",
    "    print(\"TypeError encountered, check input of a\")\n",
    "except ValueError:\n",
    "    print(\"=== Except block 2 ===\")\n",
    "    print(\"ValueError encountered, check input of b\")"
   ]
  },
  {
   "cell_type": "code",
   "execution_count": 4,
   "metadata": {
    "execution": {
     "iopub.execute_input": "2020-07-23T08:06:45.748653Z",
     "iopub.status.busy": "2020-07-23T08:06:45.747954Z",
     "iopub.status.idle": "2020-07-23T08:06:45.751596Z",
     "shell.execute_reply": "2020-07-23T08:06:45.751070Z"
    }
   },
   "outputs": [
    {
     "name": "stdout",
     "output_type": "stream",
     "text": [
      "=== Try block ===\n",
      "=== Except block 1 ===\n",
      "TypeError encountered, check input of a\n"
     ]
    }
   ],
   "source": [
    "a = \"10\"\n",
    "b = \"10\"\n",
    "\n",
    "try:\n",
    "    print(\"=== Try block ===\")\n",
    "    if a > int(b):\n",
    "        print(\"Content in try block after error encountered\")\n",
    "except TypeError:\n",
    "    print(\"=== Except block 1 ===\")\n",
    "    print(\"TypeError encountered, check input of a\")\n",
    "except ValueError:\n",
    "    print(\"=== Except block 2 ===\")\n",
    "    print(\"ValueError encountered, check input of b\")"
   ]
  },
  {
   "cell_type": "code",
   "execution_count": 5,
   "metadata": {
    "execution": {
     "iopub.execute_input": "2020-07-23T08:06:45.757986Z",
     "iopub.status.busy": "2020-07-23T08:06:45.757152Z",
     "iopub.status.idle": "2020-07-23T08:06:45.761163Z",
     "shell.execute_reply": "2020-07-23T08:06:45.760535Z"
    }
   },
   "outputs": [
    {
     "name": "stdout",
     "output_type": "stream",
     "text": [
      "=== Try block ===\n",
      "=== Except block 2 ===\n",
      "ValueError encountered, check input of b\n"
     ]
    }
   ],
   "source": [
    "a = 10\n",
    "b = \"k\"\n",
    "\n",
    "try:\n",
    "    print(\"=== Try block ===\")\n",
    "    if a > int(b):\n",
    "        print(\"Content in try block after error encountered\")\n",
    "except TypeError:\n",
    "    print(\"=== Except block 1 ===\")\n",
    "    print(\"TypeError encountered, check input of a\")\n",
    "except ValueError:\n",
    "    print(\"=== Except block 2 ===\")\n",
    "    print(\"ValueError encountered, check input of b\")"
   ]
  },
  {
   "cell_type": "markdown",
   "metadata": {},
   "source": [
    "### Clean up with `finally`"
   ]
  },
  {
   "cell_type": "markdown",
   "metadata": {},
   "source": [
    "If we return early (e.g in try-except blocks), the rest of the code won't be excecuted."
   ]
  },
  {
   "cell_type": "code",
   "execution_count": 6,
   "metadata": {
    "execution": {
     "iopub.execute_input": "2020-07-23T08:06:45.768671Z",
     "iopub.status.busy": "2020-07-23T08:06:45.767913Z",
     "iopub.status.idle": "2020-07-23T08:06:45.770533Z",
     "shell.execute_reply": "2020-07-23T08:06:45.771119Z"
    }
   },
   "outputs": [],
   "source": [
    "def fun(a, b):\n",
    "    try:\n",
    "        print(\"=== Try block ===\")\n",
    "        if a > int(b):\n",
    "            print(\"Content in try block after error encountered\")\n",
    "    except TypeError:\n",
    "        print(\"=== Except block 1 ===\")\n",
    "        print(\"TypeError encountered, check input of a\")\n",
    "        return 1\n",
    "    except ValueError:\n",
    "        print(\"=== Except block 2 ===\")\n",
    "        print(\"ValueError encountered, check input of b\")\n",
    "        return 2\n",
    "    \n",
    "    print(\"This will not be printed if exception encounterd\")\n",
    "    return 0"
   ]
  },
  {
   "cell_type": "code",
   "execution_count": 7,
   "metadata": {
    "execution": {
     "iopub.execute_input": "2020-07-23T08:06:45.776355Z",
     "iopub.status.busy": "2020-07-23T08:06:45.775482Z",
     "iopub.status.idle": "2020-07-23T08:06:45.779115Z",
     "shell.execute_reply": "2020-07-23T08:06:45.779827Z"
    }
   },
   "outputs": [
    {
     "name": "stdout",
     "output_type": "stream",
     "text": [
      "=== Try block ===\n",
      "=== Except block 2 ===\n",
      "ValueError encountered, check input of b\n"
     ]
    }
   ],
   "source": [
    "x = fun(10, \"k\")"
   ]
  },
  {
   "cell_type": "markdown",
   "metadata": {},
   "source": [
    "If you some code **must be run** after the try-except blocks, a better way is to use the `finally` block.\n",
    "\n",
    "`finally` block is a good way to clean up code (such as closing the file)."
   ]
  },
  {
   "cell_type": "code",
   "execution_count": 8,
   "metadata": {
    "execution": {
     "iopub.execute_input": "2020-07-23T08:06:45.788415Z",
     "iopub.status.busy": "2020-07-23T08:06:45.787247Z",
     "iopub.status.idle": "2020-07-23T08:06:45.790212Z",
     "shell.execute_reply": "2020-07-23T08:06:45.790830Z"
    }
   },
   "outputs": [],
   "source": [
    "def fun(a, b):\n",
    "    try:\n",
    "        print(\"=== Try block ===\")\n",
    "        if a > int(b):\n",
    "            print(\"Content in try block after error encountered\")\n",
    "    except TypeError:\n",
    "        print(\"=== Except block 1 ===\")\n",
    "        print(\"TypeError encountered, check input of a\")\n",
    "        return 1\n",
    "    except ValueError:\n",
    "        print(\"=== Except block 2 ===\")\n",
    "        print(\"ValueError encountered, check input of b\")\n",
    "        return 2\n",
    "    # Code here is executed no matter whether except block that was executed\n",
    "    finally:  \n",
    "        print(\"This is always printed\")\n",
    "        \n",
    "    return 0"
   ]
  },
  {
   "cell_type": "code",
   "execution_count": 9,
   "metadata": {
    "execution": {
     "iopub.execute_input": "2020-07-23T08:06:45.796179Z",
     "iopub.status.busy": "2020-07-23T08:06:45.795299Z",
     "iopub.status.idle": "2020-07-23T08:06:45.799402Z",
     "shell.execute_reply": "2020-07-23T08:06:45.800034Z"
    }
   },
   "outputs": [
    {
     "name": "stdout",
     "output_type": "stream",
     "text": [
      "=== Try block ===\n",
      "=== Except block 2 ===\n",
      "ValueError encountered, check input of b\n",
      "This is always printed\n"
     ]
    }
   ],
   "source": [
    "x = fun(10, \"k\")"
   ]
  },
  {
   "cell_type": "markdown",
   "metadata": {},
   "source": [
    "## Raising Exception"
   ]
  },
  {
   "cell_type": "markdown",
   "metadata": {},
   "source": [
    "To raise a (self-defined) exception in a function, use the expression `raise Exception(\"exception-name\")`."
   ]
  },
  {
   "cell_type": "markdown",
   "metadata": {},
   "source": [
    "```python\n",
    "def fun(prob):\n",
    "    if not 0 <= prob <= 1:\n",
    "        raise Exception(\"InvalidProb\")\n",
    "    return prob\n",
    "```"
   ]
  },
  {
   "cell_type": "markdown",
   "metadata": {},
   "source": [
    "```python\n",
    "fun(1.5)\n",
    "```\n",
    "\n",
    "```\n",
    "---------------------------------------------------------------------------\n",
    "Exception                                 Traceback (most recent call last)\n",
    "<ipython-input-40-0dd1cabf5a55> in <module>\n",
    "----> 1 fun(1.5)\n",
    "\n",
    "<ipython-input-39-98ccab9d5d44> in fun(prob)\n",
    "      1 def fun(prob):\n",
    "      2     if not 0 <= prob <= 1:\n",
    "----> 3         raise Exception(\"InvalidProb\")\n",
    "      4     return prob\n",
    "\n",
    "Exception: InvalidProb\n",
    "```"
   ]
  },
  {
   "cell_type": "markdown",
   "metadata": {},
   "source": [
    "You can then capture this exception with an `except` block:"
   ]
  },
  {
   "cell_type": "code",
   "execution_count": 10,
   "metadata": {
    "execution": {
     "iopub.execute_input": "2020-07-23T08:06:45.805725Z",
     "iopub.status.busy": "2020-07-23T08:06:45.804971Z",
     "iopub.status.idle": "2020-07-23T08:06:45.807489Z",
     "shell.execute_reply": "2020-07-23T08:06:45.808100Z"
    }
   },
   "outputs": [],
   "source": [
    "def safeFun(prob):\n",
    "    try:\n",
    "        prob = fun(prob)\n",
    "    except Exception as exp:\n",
    "        print('Exception encountered: %s' % str(exp))\n",
    "        prob = 0\n",
    "    \n",
    "    return prob"
   ]
  },
  {
   "cell_type": "code",
   "execution_count": 11,
   "metadata": {
    "execution": {
     "iopub.execute_input": "2020-07-23T08:06:45.813021Z",
     "iopub.status.busy": "2020-07-23T08:06:45.812223Z",
     "iopub.status.idle": "2020-07-23T08:06:45.816224Z",
     "shell.execute_reply": "2020-07-23T08:06:45.815401Z"
    }
   },
   "outputs": [
    {
     "name": "stdout",
     "output_type": "stream",
     "text": [
      "Exception encountered: fun() missing 1 required positional argument: 'b'\n"
     ]
    }
   ],
   "source": [
    "x = safeFun(1.5)"
   ]
  }
 ],
 "metadata": {
  "kernelspec": {
   "display_name": "Python 3",
   "language": "python",
   "name": "python3"
  },
  "language_info": {
   "codemirror_mode": {
    "name": "ipython",
    "version": 3
   },
   "file_extension": ".py",
   "mimetype": "text/x-python",
   "name": "python",
   "nbconvert_exporter": "python",
   "pygments_lexer": "ipython3",
   "version": "3.7.6"
  }
 },
 "nbformat": 4,
 "nbformat_minor": 4
}